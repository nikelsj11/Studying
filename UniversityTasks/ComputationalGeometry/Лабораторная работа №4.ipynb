{
 "cells": [
  {
   "cell_type": "markdown",
   "metadata": {},
   "source": [
    "# Лабораторная работа №3"
   ]
  },
  {
   "cell_type": "markdown",
   "metadata": {},
   "source": [
    "#### Импорт ввсех необходимых модулей"
   ]
  },
  {
   "cell_type": "code",
   "execution_count": 1,
   "metadata": {
    "collapsed": false
   },
   "outputs": [],
   "source": [
    "import numpy as np\n",
    "import matplotlib.pyplot as plt\n",
    "\n",
    "import lib.rungekutta as rk # наша локальная библиотека, реализует явные методы Рунге-Кутты\n",
    "from lib.RungeKuttaFour import RungeKuttaFour\n",
    "from mpl_toolkits.mplot3d import Axes3D\n",
    "%matplotlib inline\n",
    "from matplotlib import rcParams\n",
    "rcParams['figure.figsize'] = (12.0, 7.0)\n",
    "#rcParams['figure.dpi'] = 50\n",
    "rcParams['font.size'] = 18"
   ]
  },
  {
   "cell_type": "markdown",
   "metadata": {},
   "source": [
    "## *Задание №1*"
   ]
  },
  {
   "cell_type": "code",
   "execution_count": null,
   "metadata": {
    "collapsed": false
   },
   "outputs": [],
   "source": [
    "def integrate(x0, y0, z0, h, n):\n",
    "    a, b, c = [y0], [z0], [x0]\n",
    "    for i in np.arange(0,n,1):\n",
    "        k1x, k1y, k1z = x0 + i*h, y0, z0 \n",
    "        k1 = k1z\n",
    "        k2x, k2y, k2z = x0 + i*h + 0.5*h, y0 + 0.5*k1*h, z0 + 0.5*k1*h\n",
    "        k2 = k2z\n",
    "        k3x, k3y, k3z = x0 + i*h + 0.5*h, y0 + 0.5*k2*h, z0 + 0.5*k2*h\n",
    "        k3 = k3z\n",
    "        k4x, k4y, k4z = x0 + i*h + h, y0 + k3*h, z0 + k3*h\n",
    "        k4 = k4z\n",
    "        y1 = y0 + (1/6.0)*(k1 + 2*k2 + 2*k3 + k4)*h \n",
    "        k1 = -k1y\n",
    "        k2x, k2y, k2z = x0 + i*h + 0.5*h, y0 + 0.5*k1*h, z0 + 0.5*k1*h\n",
    "        k2 = -k2y\n",
    "        k3x, k3y, k3z = x0 + i*h + 0.5*h, y0 + 0.5*k2*h, z0 + 0.5*k2*h\n",
    "        k3 = -k3y\n",
    "        k4x, k4y, k4z = x0 + i*h + h, y0 + k3*h, z0 + k3*h\n",
    "        k4 = -k4y\n",
    "        z1 = z0 + (1/6.0)*(k1 + 2*k2 + 2*k3 + k4)*h\n",
    "        y0, z0 = y1, z1\n",
    "        a.append(y1)\n",
    "        b.append(z1)\n",
    "        c.append(k1x+h)\n",
    "\n",
    "    return a, b, c"
   ]
  },
  {
   "cell_type": "markdown",
   "metadata": {},
   "source": [
    "## *Задание №2*"
   ]
  },
  {
   "cell_type": "code",
   "execution_count": null,
   "metadata": {
    "collapsed": false
   },
   "outputs": [],
   "source": [
    "plt.figure(0).subplots_adjust(hspace=.5, wspace=.35)\n",
    "\n",
    "x, y, t = integrate(1, 1, 0, 0.01, 1000000)\n",
    "\n",
    "fig = plt.figure(0)\n",
    "ax = fig.add_subplot(2,1,1)\n",
    "ax.plot(x, t)\n",
    "ax = fig.add_subplot(2,1,2)\n",
    "ax.plot(t, y)\n",
    "fig = plt.figure(1)\n",
    "ax = fig.add_subplot(1,1,1)\n",
    "ax.plot(x, y)\n",
    "\n",
    "x, y, t = integrate(1., 1., 0., 0.1, 10000)\n",
    "\n",
    "fig = plt.figure(2)\n",
    "ax = fig.add_subplot(2,1,1)\n",
    "ax.plot(x, t)\n",
    "ax = fig.add_subplot(2,1,2)\n",
    "ax.plot(t, y)\n",
    "fig = plt.figure(3)\n",
    "ax = fig.add_subplot(1,1,1)\n",
    "ax.plot(x, y)\n",
    "\n",
    "x, y, t = integrate(1., 1., 0., 0.5, 100)\n",
    "\n",
    "fig = plt.figure(4)\n",
    "ax = fig.add_subplot(2,1,1)\n",
    "ax.plot(x, t)\n",
    "ax = fig.add_subplot(2,1,2)\n",
    "ax.plot(t, y)\n",
    "fig = plt.figure(5)\n",
    "ax = fig.add_subplot(1,1,1)\n",
    "ax.plot(x, y)\n"
   ]
  },
  {
   "cell_type": "markdown",
   "metadata": {},
   "source": [
    "## *Задание №3*"
   ]
  },
  {
   "cell_type": "code",
   "execution_count": null,
   "metadata": {
    "collapsed": false
   },
   "outputs": [],
   "source": [
    "def F2(t, x, p):\n",
    "    return (-x[1], x[0])\n",
    "\n",
    "RungeKuttas =[\n",
    "    {'type': 'RKp3n2', 't': None, 'x': None},\n",
    "    {'type': 'RKp4n2', 't': None, 'x': None},\n",
    "    {'type': 'RKp5n2', 't': None, 'x': None},\n",
    "    {'type': 'RKp6n1', 't': None, 'x':None}\n",
    "]\n",
    "\n",
    "x_0 = [1.0, 1.0]\n",
    "time = (0.0, 10000.0)\n",
    "h = 0.1\n",
    "\n",
    "for RungeKutta in RungeKuttas:\n",
    "    RK = rk.RK(2, RungeKutta['type'])\n",
    "    RungeKutta['t'], RungeKutta['x'] = RK.integrate(F2, x_0, time, h)\n",
    "    \n",
    "def H(x, y):\n",
    "    '''Функция Гамильтона (полная энергия)'''\n",
    "    return 0.5*(x**2 + y**2)\n",
    "\n",
    "number = 0\n",
    "\n",
    "for RungeKutta in RungeKuttas:\n",
    "    fig = plt.figure(number)\n",
    "    number += 1\n",
    "    ax = plt.axes(projection='3d')\n",
    "    ax.set_title(RungeKutta['type'])\n",
    "\n",
    "    x = RungeKutta['x'][0]\n",
    "    y = RungeKutta['x'][1]\n",
    "\n",
    "    z = [H(x, y) for x, y in zip(x,y)]\n",
    "\n",
    "    ax.scatter(x, y, z, c = x + y)\n",
    "    \n",
    "    fig = plt.figure(number)\n",
    "    number += 1\n",
    "    ax = fig.add_subplot(111)\n",
    "    ax.plot(RungeKutta['t'], z)\n"
   ]
  }
 ],
 "metadata": {
  "kernelspec": {
   "display_name": "Python 3",
   "language": "python",
   "name": "python3"
  },
  "language_info": {
   "codemirror_mode": {
    "name": "ipython",
    "version": 3
   },
   "file_extension": ".py",
   "mimetype": "text/x-python",
   "name": "python",
   "nbconvert_exporter": "python",
   "pygments_lexer": "ipython3",
   "version": "3.5.1"
  }
 },
 "nbformat": 4,
 "nbformat_minor": 0
}
